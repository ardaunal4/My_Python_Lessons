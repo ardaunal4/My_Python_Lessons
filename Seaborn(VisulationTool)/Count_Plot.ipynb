{
 "cells": [
  {
   "cell_type": "code",
   "execution_count": 1,
   "metadata": {},
   "outputs": [
    {
     "name": "stderr",
     "output_type": "stream",
     "text": [
      "/home/arda/anaconda3/lib/python3.7/site-packages/statsmodels/tools/_testing.py:19: FutureWarning: pandas.util.testing is deprecated. Use the functions in the public API at pandas.testing instead.\n",
      "  import pandas.util.testing as tm\n"
     ]
    }
   ],
   "source": [
    "import numpy as np # linear algebra\n",
    "import pandas as pd # data processing, CSV file I/O (e.g. pd.read_csv)\n",
    "import seaborn as sns\n",
    "import matplotlib.pyplot as plt\n",
    "from collections import Counter"
   ]
  },
  {
   "cell_type": "code",
   "execution_count": 2,
   "metadata": {},
   "outputs": [],
   "source": [
    "kill = pd.read_csv('PoliceKillingsUS.csv', encoding=\"windows-1252\")\n",
    "median_house_hold_in_come = pd.read_csv('MedianHouseholdIncome2015.csv', encoding=\"windows-1252\")\n",
    "percentage_people_below_poverty_level = pd.read_csv('PercentagePeopleBelowPovertyLevel.csv', encoding=\"windows-1252\")\n",
    "percent_over_25_completed_highSchool = pd.read_csv('PercentOver25CompletedHighSchool.csv', encoding=\"windows-1252\")\n",
    "share_race_city = pd.read_csv('ShareRaceByCity.csv', encoding=\"windows-1252\")"
   ]
  },
  {
   "cell_type": "code",
   "execution_count": 3,
   "metadata": {},
   "outputs": [],
   "source": [
    "# Poverty rate of each state\n",
    "percentage_people_below_poverty_level.poverty_rate.replace(['-'],0.0,inplace = True)\n",
    "percentage_people_below_poverty_level.poverty_rate = percentage_people_below_poverty_level.poverty_rate.astype(float)\n",
    "area_list = list(percentage_people_below_poverty_level['Geographic Area'].unique())\n",
    "area_poverty_ratio = []\n",
    "for i in area_list:\n",
    "    x = percentage_people_below_poverty_level[percentage_people_below_poverty_level['Geographic Area']==i]\n",
    "    area_poverty_rate = sum(x.poverty_rate)/len(x)\n",
    "    area_poverty_ratio.append(area_poverty_rate)\n",
    "data = pd.DataFrame({'area_list': area_list,'area_poverty_ratio':area_poverty_ratio})\n",
    "new_index = (data['area_poverty_ratio'].sort_values(ascending=False)).index.values\n",
    "sorted_data = data.reindex(new_index)"
   ]
  },
  {
   "cell_type": "code",
   "execution_count": 4,
   "metadata": {},
   "outputs": [],
   "source": [
    "# High school graduation rate of the population that is older than 25 in states\n",
    "percent_over_25_completed_highSchool.percent_completed_hs.replace(['-'],0.0,inplace = True)\n",
    "percent_over_25_completed_highSchool.percent_completed_hs = percent_over_25_completed_highSchool.percent_completed_hs.astype(float)\n",
    "area_list = list(percent_over_25_completed_highSchool['Geographic Area'].unique())\n",
    "area_highschool = []\n",
    "for i in area_list:\n",
    "    x = percent_over_25_completed_highSchool[percent_over_25_completed_highSchool['Geographic Area']==i]\n",
    "    area_highschool_rate = sum(x.percent_completed_hs)/len(x)\n",
    "    area_highschool.append(area_highschool_rate)\n",
    "# sorting\n",
    "data = pd.DataFrame({'area_list': area_list,'area_highschool_ratio':area_highschool})\n",
    "new_index = (data['area_highschool_ratio'].sort_values(ascending=True)).index.values\n",
    "sorted_data2 = data.reindex(new_index)"
   ]
  },
  {
   "cell_type": "code",
   "execution_count": 5,
   "metadata": {},
   "outputs": [],
   "source": [
    "# high school graduation rate vs Poverty rate of each state\n",
    "sorted_data['area_poverty_ratio'] = sorted_data['area_poverty_ratio']/max( sorted_data['area_poverty_ratio'])\n",
    "sorted_data2['area_highschool_ratio'] = sorted_data2['area_highschool_ratio']/max( sorted_data2['area_highschool_ratio'])\n",
    "data = pd.concat([sorted_data,sorted_data2['area_highschool_ratio']],axis=1)\n",
    "data.sort_values('area_poverty_ratio',inplace=True)"
   ]
  },
  {
   "cell_type": "code",
   "execution_count": 8,
   "metadata": {},
   "outputs": [
    {
     "data": {
      "text/html": [
       "<div>\n",
       "<style scoped>\n",
       "    .dataframe tbody tr th:only-of-type {\n",
       "        vertical-align: middle;\n",
       "    }\n",
       "\n",
       "    .dataframe tbody tr th {\n",
       "        vertical-align: top;\n",
       "    }\n",
       "\n",
       "    .dataframe thead th {\n",
       "        text-align: right;\n",
       "    }\n",
       "</style>\n",
       "<table border=\"1\" class=\"dataframe\">\n",
       "  <thead>\n",
       "    <tr style=\"text-align: right;\">\n",
       "      <th></th>\n",
       "      <th>id</th>\n",
       "      <th>name</th>\n",
       "      <th>date</th>\n",
       "      <th>manner_of_death</th>\n",
       "      <th>armed</th>\n",
       "      <th>age</th>\n",
       "      <th>gender</th>\n",
       "      <th>race</th>\n",
       "      <th>city</th>\n",
       "      <th>state</th>\n",
       "      <th>signs_of_mental_illness</th>\n",
       "      <th>threat_level</th>\n",
       "      <th>flee</th>\n",
       "      <th>body_camera</th>\n",
       "    </tr>\n",
       "  </thead>\n",
       "  <tbody>\n",
       "    <tr>\n",
       "      <th>0</th>\n",
       "      <td>3</td>\n",
       "      <td>Tim Elliot</td>\n",
       "      <td>02/01/15</td>\n",
       "      <td>shot</td>\n",
       "      <td>gun</td>\n",
       "      <td>53.0</td>\n",
       "      <td>M</td>\n",
       "      <td>A</td>\n",
       "      <td>Shelton</td>\n",
       "      <td>WA</td>\n",
       "      <td>True</td>\n",
       "      <td>attack</td>\n",
       "      <td>Not fleeing</td>\n",
       "      <td>False</td>\n",
       "    </tr>\n",
       "    <tr>\n",
       "      <th>1</th>\n",
       "      <td>4</td>\n",
       "      <td>Lewis Lee Lembke</td>\n",
       "      <td>02/01/15</td>\n",
       "      <td>shot</td>\n",
       "      <td>gun</td>\n",
       "      <td>47.0</td>\n",
       "      <td>M</td>\n",
       "      <td>W</td>\n",
       "      <td>Aloha</td>\n",
       "      <td>OR</td>\n",
       "      <td>False</td>\n",
       "      <td>attack</td>\n",
       "      <td>Not fleeing</td>\n",
       "      <td>False</td>\n",
       "    </tr>\n",
       "    <tr>\n",
       "      <th>2</th>\n",
       "      <td>5</td>\n",
       "      <td>John Paul Quintero</td>\n",
       "      <td>03/01/15</td>\n",
       "      <td>shot and Tasered</td>\n",
       "      <td>unarmed</td>\n",
       "      <td>23.0</td>\n",
       "      <td>M</td>\n",
       "      <td>H</td>\n",
       "      <td>Wichita</td>\n",
       "      <td>KS</td>\n",
       "      <td>False</td>\n",
       "      <td>other</td>\n",
       "      <td>Not fleeing</td>\n",
       "      <td>False</td>\n",
       "    </tr>\n",
       "    <tr>\n",
       "      <th>3</th>\n",
       "      <td>8</td>\n",
       "      <td>Matthew Hoffman</td>\n",
       "      <td>04/01/15</td>\n",
       "      <td>shot</td>\n",
       "      <td>toy weapon</td>\n",
       "      <td>32.0</td>\n",
       "      <td>M</td>\n",
       "      <td>W</td>\n",
       "      <td>San Francisco</td>\n",
       "      <td>CA</td>\n",
       "      <td>True</td>\n",
       "      <td>attack</td>\n",
       "      <td>Not fleeing</td>\n",
       "      <td>False</td>\n",
       "    </tr>\n",
       "    <tr>\n",
       "      <th>4</th>\n",
       "      <td>9</td>\n",
       "      <td>Michael Rodriguez</td>\n",
       "      <td>04/01/15</td>\n",
       "      <td>shot</td>\n",
       "      <td>nail gun</td>\n",
       "      <td>39.0</td>\n",
       "      <td>M</td>\n",
       "      <td>H</td>\n",
       "      <td>Evans</td>\n",
       "      <td>CO</td>\n",
       "      <td>False</td>\n",
       "      <td>attack</td>\n",
       "      <td>Not fleeing</td>\n",
       "      <td>False</td>\n",
       "    </tr>\n",
       "  </tbody>\n",
       "</table>\n",
       "</div>"
      ],
      "text/plain": [
       "   id                name      date   manner_of_death       armed   age  \\\n",
       "0   3          Tim Elliot  02/01/15              shot         gun  53.0   \n",
       "1   4    Lewis Lee Lembke  02/01/15              shot         gun  47.0   \n",
       "2   5  John Paul Quintero  03/01/15  shot and Tasered     unarmed  23.0   \n",
       "3   8     Matthew Hoffman  04/01/15              shot  toy weapon  32.0   \n",
       "4   9   Michael Rodriguez  04/01/15              shot    nail gun  39.0   \n",
       "\n",
       "  gender race           city state  signs_of_mental_illness threat_level  \\\n",
       "0      M    A        Shelton    WA                     True       attack   \n",
       "1      M    W          Aloha    OR                    False       attack   \n",
       "2      M    H        Wichita    KS                    False        other   \n",
       "3      M    W  San Francisco    CA                     True       attack   \n",
       "4      M    H          Evans    CO                    False       attack   \n",
       "\n",
       "          flee  body_camera  \n",
       "0  Not fleeing        False  \n",
       "1  Not fleeing        False  \n",
       "2  Not fleeing        False  \n",
       "3  Not fleeing        False  \n",
       "4  Not fleeing        False  "
      ]
     },
     "execution_count": 8,
     "metadata": {},
     "output_type": "execute_result"
    }
   ],
   "source": [
    "kill.head()"
   ]
  },
  {
   "cell_type": "code",
   "execution_count": 7,
   "metadata": {
    "scrolled": true
   },
   "outputs": [
    {
     "data": {
      "text/plain": [
       "Text(0.5, 1.0, 'gender')"
      ]
     },
     "execution_count": 7,
     "metadata": {},
     "output_type": "execute_result"
    },
    {
     "data": {
      "image/png": "[encoded data removed]",
      "text/plain": [
       "<Figure size 432x288 with 1 Axes>"
      ]
     },
     "metadata": {
      "needs_background": "light"
     },
     "output_type": "display_data"
    }
   ],
   "source": [
    "# kill properties\n",
    "# Manner of death\n",
    "sns.countplot(kill.gender)\n",
    "#sns.countplot(kill.manner_of_death)\n",
    "plt.title(\"gender\", color = 'blue', fontsize = 15)"
   ]
  },
  {
   "cell_type": "code",
   "execution_count": 10,
   "metadata": {
    "scrolled": true
   },
   "outputs": [
    {
     "data": {
      "text/plain": [
       "0           gun\n",
       "1           gun\n",
       "2       unarmed\n",
       "3    toy weapon\n",
       "4      nail gun\n",
       "Name: armed, dtype: object"
      ]
     },
     "execution_count": 10,
     "metadata": {},
     "output_type": "execute_result"
    }
   ],
   "source": [
    "kill.armed.head()"
   ]
  },
  {
   "cell_type": "code",
   "execution_count": 11,
   "metadata": {},
   "outputs": [
    {
     "data": {
      "text/plain": [
       "gun                 1398\n",
       "knife                373\n",
       "vehicle              177\n",
       "unarmed              171\n",
       "undetermined         117\n",
       "                    ... \n",
       "pole                   1\n",
       "hand torch             1\n",
       "garden tool            1\n",
       "spear                  1\n",
       "lawn mower blade       1\n",
       "Name: armed, Length: 68, dtype: int64"
      ]
     },
     "execution_count": 11,
     "metadata": {},
     "output_type": "execute_result"
    }
   ],
   "source": [
    "kill.armed.value_counts()"
   ]
  },
  {
   "cell_type": "code",
   "execution_count": 9,
   "metadata": {},
   "outputs": [
    {
     "data": {
      "text/plain": [
       "Text(0.5, 1.0, 'Kill weapon')"
      ]
     },
     "execution_count": 9,
     "metadata": {},
     "output_type": "execute_result"
    },
    {
     "data": {
      "image/png": "[encoded data removed]",
      "text/plain": [
       "<Figure size 720x504 with 1 Axes>"
      ]
     },
     "metadata": {
      "needs_background": "light"
     },
     "output_type": "display_data"
    }
   ],
   "source": [
    "# kill weapon\n",
    "armed = kill.armed.value_counts()\n",
    "#print(armed)\n",
    "plt.figure(figsize = (10, 7))\n",
    "sns.barplot(x = armed[:7].index, y = armed[:7].values)\n",
    "plt.ylabel('Number of Weapon')\n",
    "plt.xlabel('Weapon Types')\n",
    "plt.title('Kill weapon', color = 'blue', fontsize = 15)"
   ]
  },
  {
   "cell_type": "code",
   "execution_count": 12,
   "metadata": {},
   "outputs": [
    {
     "data": {
      "text/plain": [
       "Text(0.5, 1.0, 'Age of killed people')"
      ]
     },
     "execution_count": 12,
     "metadata": {},
     "output_type": "execute_result"
    },
    {
     "data": {
      "image/png": "[encoded data removed]",
      "text/plain": [
       "<Figure size 432x288 with 1 Axes>"
      ]
     },
     "metadata": {
      "needs_background": "light"
     },
     "output_type": "display_data"
    }
   ],
   "source": [
    "# age of killed people\n",
    "above25 = ['above25' if i >= 25 else 'below25' for i in kill.age]\n",
    "df = pd.DataFrame({'age':above25})\n",
    "sns.countplot(x = df.age)\n",
    "plt.ylabel('Number of Killed People')\n",
    "plt.title('Age of killed people', color = 'blue', fontsize = 15)"
   ]
  },
  {
   "cell_type": "code",
   "execution_count": 13,
   "metadata": {},
   "outputs": [
    {
     "data": {
      "text/plain": [
       "Text(0.5, 1.0, 'Race of killed people')"
      ]
     },
     "execution_count": 13,
     "metadata": {},
     "output_type": "execute_result"
    },
    {
     "data": {
      "image/png": "[encoded data removed]",
      "text/plain": [
       "<Figure size 432x288 with 1 Axes>"
      ]
     },
     "metadata": {
      "needs_background": "light"
     },
     "output_type": "display_data"
    }
   ],
   "source": [
    "# Race of killed people\n",
    "sns.countplot(data = kill, x = 'race')\n",
    "plt.title('Race of killed people', color = 'blue', fontsize = 15)"
   ]
  },
  {
   "cell_type": "code",
   "execution_count": null,
   "metadata": {},
   "outputs": [],
   "source": []
  }
 ],
 "metadata": {
  "kernelspec": {
   "display_name": "Python 3",
   "language": "python",
   "name": "python3"
  },
  "language_info": {
   "codemirror_mode": {
    "name": "ipython",
    "version": 3
   },
   "file_extension": ".py",
   "mimetype": "text/x-python",
   "name": "python",
   "nbconvert_exporter": "python",
   "pygments_lexer": "ipython3",
   "version": "3.7.4"
  }
 },
 "nbformat": 4,
 "nbformat_minor": 2
}
