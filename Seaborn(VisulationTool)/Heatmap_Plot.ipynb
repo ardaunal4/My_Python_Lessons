{
 "cells": [
  {
   "cell_type": "code",
   "execution_count": 1,
   "metadata": {},
   "outputs": [
    {
     "name": "stderr",
     "output_type": "stream",
     "text": [
      "/home/arda/anaconda3/lib/python3.7/site-packages/statsmodels/tools/_testing.py:19: FutureWarning: pandas.util.testing is deprecated. Use the functions in the public API at pandas.testing instead.\n",
      "  import pandas.util.testing as tm\n"
     ]
    }
   ],
   "source": [
    "import numpy as np # linear algebra\n",
    "import pandas as pd # data processing, CSV file I/O (e.g. pd.read_csv)\n",
    "import seaborn as sns\n",
    "import matplotlib.pyplot as plt\n",
    "from collections import Counter"
   ]
  },
  {
   "cell_type": "code",
   "execution_count": 2,
   "metadata": {},
   "outputs": [],
   "source": [
    "kill = pd.read_csv('PoliceKillingsUS.csv', encoding=\"windows-1252\")\n",
    "median_house_hold_in_come = pd.read_csv('MedianHouseholdIncome2015.csv', encoding=\"windows-1252\")\n",
    "percentage_people_below_poverty_level = pd.read_csv('PercentagePeopleBelowPovertyLevel.csv', encoding=\"windows-1252\")\n",
    "percent_over_25_completed_highSchool = pd.read_csv('PercentOver25CompletedHighSchool.csv', encoding=\"windows-1252\")\n",
    "share_race_city = pd.read_csv('ShareRaceByCity.csv', encoding=\"windows-1252\")"
   ]
  },
  {
   "cell_type": "code",
   "execution_count": 3,
   "metadata": {},
   "outputs": [],
   "source": [
    "# Poverty rate of each state\n",
    "percentage_people_below_poverty_level.poverty_rate.replace(['-'],0.0,inplace = True)\n",
    "percentage_people_below_poverty_level.poverty_rate = percentage_people_below_poverty_level.poverty_rate.astype(float)\n",
    "area_list = list(percentage_people_below_poverty_level['Geographic Area'].unique())\n",
    "area_poverty_ratio = []\n",
    "for i in area_list:\n",
    "    x = percentage_people_below_poverty_level[percentage_people_below_poverty_level['Geographic Area']==i]\n",
    "    area_poverty_rate = sum(x.poverty_rate)/len(x)\n",
    "    area_poverty_ratio.append(area_poverty_rate)\n",
    "data = pd.DataFrame({'area_list': area_list,'area_poverty_ratio':area_poverty_ratio})\n",
    "new_index = (data['area_poverty_ratio'].sort_values(ascending=False)).index.values\n",
    "sorted_data = data.reindex(new_index)"
   ]
  },
  {
   "cell_type": "code",
   "execution_count": 4,
   "metadata": {},
   "outputs": [],
   "source": [
    "# High school graduation rate of the population that is older than 25 in states\n",
    "percent_over_25_completed_highSchool.percent_completed_hs.replace(['-'],0.0,inplace = True)\n",
    "percent_over_25_completed_highSchool.percent_completed_hs = percent_over_25_completed_highSchool.percent_completed_hs.astype(float)\n",
    "area_list = list(percent_over_25_completed_highSchool['Geographic Area'].unique())\n",
    "area_highschool = []\n",
    "for i in area_list:\n",
    "    x = percent_over_25_completed_highSchool[percent_over_25_completed_highSchool['Geographic Area']==i]\n",
    "    area_highschool_rate = sum(x.percent_completed_hs)/len(x)\n",
    "    area_highschool.append(area_highschool_rate)\n",
    "# sorting\n",
    "data = pd.DataFrame({'area_list': area_list,'area_highschool_ratio':area_highschool})\n",
    "new_index = (data['area_highschool_ratio'].sort_values(ascending=True)).index.values\n",
    "sorted_data2 = data.reindex(new_index)"
   ]
  },
  {
   "cell_type": "code",
   "execution_count": 5,
   "metadata": {},
   "outputs": [],
   "source": [
    "# high school graduation rate vs Poverty rate of each state\n",
    "sorted_data['area_poverty_ratio'] = sorted_data['area_poverty_ratio']/max( sorted_data['area_poverty_ratio'])\n",
    "sorted_data2['area_highschool_ratio'] = sorted_data2['area_highschool_ratio']/max( sorted_data2['area_highschool_ratio'])\n",
    "data = pd.concat([sorted_data,sorted_data2['area_highschool_ratio']],axis=1)\n",
    "data.sort_values('area_poverty_ratio',inplace=True)"
   ]
  },
  {
   "cell_type": "code",
   "execution_count": 6,
   "metadata": {},
   "outputs": [
    {
     "data": {
      "text/html": [
       "<div>\n",
       "<style scoped>\n",
       "    .dataframe tbody tr th:only-of-type {\n",
       "        vertical-align: middle;\n",
       "    }\n",
       "\n",
       "    .dataframe tbody tr th {\n",
       "        vertical-align: top;\n",
       "    }\n",
       "\n",
       "    .dataframe thead th {\n",
       "        text-align: right;\n",
       "    }\n",
       "</style>\n",
       "<table border=\"1\" class=\"dataframe\">\n",
       "  <thead>\n",
       "    <tr style=\"text-align: right;\">\n",
       "      <th></th>\n",
       "      <th>area_poverty_ratio</th>\n",
       "      <th>area_highschool_ratio</th>\n",
       "    </tr>\n",
       "  </thead>\n",
       "  <tbody>\n",
       "    <tr>\n",
       "      <th>area_poverty_ratio</th>\n",
       "      <td>1.000000</td>\n",
       "      <td>-0.805761</td>\n",
       "    </tr>\n",
       "    <tr>\n",
       "      <th>area_highschool_ratio</th>\n",
       "      <td>-0.805761</td>\n",
       "      <td>1.000000</td>\n",
       "    </tr>\n",
       "  </tbody>\n",
       "</table>\n",
       "</div>"
      ],
      "text/plain": [
       "                       area_poverty_ratio  area_highschool_ratio\n",
       "area_poverty_ratio               1.000000              -0.805761\n",
       "area_highschool_ratio           -0.805761               1.000000"
      ]
     },
     "execution_count": 6,
     "metadata": {},
     "output_type": "execute_result"
    }
   ],
   "source": [
    "data.corr()"
   ]
  },
  {
   "cell_type": "code",
   "execution_count": 7,
   "metadata": {},
   "outputs": [
    {
     "data": {
      "image/png": "[encoded data removed]",
      "text/plain": [
       "<Figure size 360x360 with 2 Axes>"
      ]
     },
     "metadata": {
      "needs_background": "light"
     },
     "output_type": "display_data"
    }
   ],
   "source": [
    "#correlation map\n",
    "# Visualization of high school graduation rate vs Poverty rate of each state with different style of seaborn code\n",
    "f,ax = plt.subplots(figsize=(5, 5))\n",
    "sns.heatmap(data.corr(), annot=True, linewidths=0.5,linecolor=\"red\", fmt= '.1f',ax=ax)\n",
    "plt.show()"
   ]
  },
  {
   "cell_type": "code",
   "execution_count": null,
   "metadata": {},
   "outputs": [],
   "source": []
  }
 ],
 "metadata": {
  "kernelspec": {
   "display_name": "Python 3",
   "language": "python",
   "name": "python3"
  },
  "language_info": {
   "codemirror_mode": {
    "name": "ipython",
    "version": 3
   },
   "file_extension": ".py",
   "mimetype": "text/x-python",
   "name": "python",
   "nbconvert_exporter": "python",
   "pygments_lexer": "ipython3",
   "version": "3.7.4"
  }
 },
 "nbformat": 4,
 "nbformat_minor": 2
}
